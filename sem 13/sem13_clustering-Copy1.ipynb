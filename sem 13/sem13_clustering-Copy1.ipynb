{
 "cells": [
  {
   "cell_type": "markdown",
   "metadata": {},
   "source": [
    "# Семинар 13"
   ]
  },
  {
   "cell_type": "markdown",
   "metadata": {},
   "source": [
    "## Кластеризация цифр"
   ]
  },
  {
   "cell_type": "markdown",
   "metadata": {},
   "source": [
    "Будем работать с набором данных [digits](http://scikit-learn.org/stable/modules/generated/sklearn.datasets.load_digits.html). "
   ]
  },
  {
   "cell_type": "code",
   "execution_count": 1,
   "metadata": {},
   "outputs": [],
   "source": [
    "from sklearn import datasets\n",
    "import numpy as np\n",
    "import scipy.misc as misc\n",
    "from matplotlib import pyplot as plt"
   ]
  },
  {
   "cell_type": "code",
   "execution_count": 2,
   "metadata": {},
   "outputs": [],
   "source": [
    "digits = datasets.load_digits()"
   ]
  },
  {
   "cell_type": "code",
   "execution_count": 3,
   "metadata": {},
   "outputs": [],
   "source": [
    "np.random.seed(13)\n",
    "X, y = digits['data'], digits['target']\n",
    "\n",
    "perm = np.random.choice(len(X), size=len(X), replace=False)\n",
    "X, y = X[perm], y[perm]"
   ]
  },
  {
   "cell_type": "markdown",
   "metadata": {},
   "source": [
    "Кластеризуем данные с помощью k-means:"
   ]
  },
  {
   "cell_type": "code",
   "execution_count": 4,
   "metadata": {},
   "outputs": [],
   "source": [
    "from sklearn.cluster import KMeans"
   ]
  },
  {
   "cell_type": "code",
   "execution_count": 5,
   "metadata": {},
   "outputs": [],
   "source": [
    "km = KMeans(n_clusters=10, random_state=13)\n",
    "km.fit(X)\n",
    "labels_ = km.predict(X)"
   ]
  },
  {
   "cell_type": "code",
   "execution_count": 10,
   "metadata": {},
   "outputs": [
    {
     "data": {
      "text/plain": [
       "array([0, 1, 2, 3, 4, 5, 6, 7, 8, 9], dtype=int32)"
      ]
     },
     "execution_count": 10,
     "metadata": {},
     "output_type": "execute_result"
    }
   ],
   "source": [
    "np.unique(labels_)"
   ]
  },
  {
   "cell_type": "markdown",
   "metadata": {},
   "source": [
    "Номера кластеров, которые были предсказаны алгоритмом, не имеют ничего общего с настоящими цифрами. Посмотрим, какая цифра представлена больше всего в нулевом кластере. Будем считать, что это кластер, соответствующий этой цифре."
   ]
  },
  {
   "cell_type": "code",
   "execution_count": 6,
   "metadata": {},
   "outputs": [
    {
     "name": "stdout",
     "output_type": "stream",
     "text": [
      "Most popular digit in 0 cluster:  5\n"
     ]
    }
   ],
   "source": [
    "max_digit = np.argmax(np.bincount(y[labels_ == 0]))\n",
    "print('Most popular digit in 0 cluster: ', max_digit)"
   ]
  },
  {
   "cell_type": "markdown",
   "metadata": {},
   "source": [
    "Найдем объекты, которые по ошибке попали в этот класс. "
   ]
  },
  {
   "cell_type": "code",
   "execution_count": 7,
   "metadata": {},
   "outputs": [],
   "source": [
    "incorrect_indices = np.where(np.logical_and(labels_ == 0, y != max_digit))[0]"
   ]
  },
  {
   "cell_type": "markdown",
   "metadata": {},
   "source": [
    "Визуализируем ошибочные изображения."
   ]
  },
  {
   "cell_type": "code",
   "execution_count": 8,
   "metadata": {},
   "outputs": [
    {
     "data": {
      "image/png": "[encoded data removed]",
      "text/plain": [
       "<Figure size 432x288 with 1 Axes>"
      ]
     },
     "metadata": {
      "needs_background": "light"
     },
     "output_type": "display_data"
    },
    {
     "data": {
      "image/png": "[encoded data removed]",
      "text/plain": [
       "<Figure size 432x288 with 1 Axes>"
      ]
     },
     "metadata": {
      "needs_background": "light"
     },
     "output_type": "display_data"
    },
    {
     "data": {
      "image/png": "[encoded data removed]",
      "text/plain": [
       "<Figure size 432x288 with 1 Axes>"
      ]
     },
     "metadata": {
      "needs_background": "light"
     },
     "output_type": "display_data"
    }
   ],
   "source": [
    "for i in range(3):\n",
    "    plt.imshow(X[incorrect_indices[i]].reshape(8, 8), cmap='gray')\n",
    "    plt.title(\"Real digit is {}\".format(y[incorrect_indices[i]]))\n",
    "    plt.show()"
   ]
  },
  {
   "cell_type": "markdown",
   "metadata": {},
   "source": [
    "Визуализируем изображения, соответствующие верной цифре."
   ]
  },
  {
   "cell_type": "code",
   "execution_count": 11,
   "metadata": {},
   "outputs": [
    {
     "data": {
      "image/png": "[encoded data removed]",
      "text/plain": [
       "<Figure size 432x288 with 1 Axes>"
      ]
     },
     "metadata": {
      "needs_background": "light"
     },
     "output_type": "display_data"
    },
    {
     "data": {
      "image/png": "[encoded data removed]",
      "text/plain": [
       "<Figure size 432x288 with 1 Axes>"
      ]
     },
     "metadata": {
      "needs_background": "light"
     },
     "output_type": "display_data"
    },
    {
     "data": {
      "image/png": "[encoded data removed]",
      "text/plain": [
       "<Figure size 432x288 with 1 Axes>"
      ]
     },
     "metadata": {
      "needs_background": "light"
     },
     "output_type": "display_data"
    }
   ],
   "source": [
    "correct_indices = np.where(np.logical_and(labels_ == 0, y == max_digit))[0]\n",
    "\n",
    "for i in range(3):\n",
    "    plt.imshow(X[correct_indices[i]].reshape(8, 8), cmap='gray')\n",
    "    plt.title(\"Real digit is {}\".format(y[correct_indices[i]]))\n",
    "    plt.show()"
   ]
  },
  {
   "cell_type": "markdown",
   "metadata": {},
   "source": [
    "Посчитаем метрики качества кластеризации. Существует достаточно много способов оценить качество кластеризации. Также существуют метрики, которые используют знания об истинном разбиении, но есть и метрики, которые это не используют. Одной из метрик, использующих истинное разбиение, является [homogeneity_score](https://scikit-learn.org/stable/modules/generated/sklearn.metrics.homogeneity_score.html). Пример метрики, которая не использует истинное разбиение: [silhouette_score](http://scikit-learn.org/stable/modules/generated/sklearn.metrics.silhouette_score.html#sklearn.metrics.silhouette_score)."
   ]
  },
  {
   "cell_type": "code",
   "execution_count": 12,
   "metadata": {},
   "outputs": [],
   "source": [
    "from sklearn.metrics import homogeneity_score, silhouette_score\n",
    "from sklearn.cluster import DBSCAN"
   ]
  },
  {
   "cell_type": "markdown",
   "metadata": {},
   "source": [
    "**Задание**\n",
    "\n",
    "Найдите количество кластеров, максимизирующих данные метрики."
   ]
  },
  {
   "cell_type": "markdown",
   "metadata": {},
   "source": [
    "**Задание**\n",
    "\n",
    "Воспользуйтесь алгоритмом DBSCAN для данной задачи и подберите оптимальный параметр eps. Сколько кластеров находит алгоритм? Визуализируйте шум с помощью кода выше."
   ]
  },
  {
   "cell_type": "markdown",
   "metadata": {},
   "source": [
    "### Визуализация кластеризации."
   ]
  },
  {
   "cell_type": "code",
   "execution_count": null,
   "metadata": {},
   "outputs": [],
   "source": [
    "from sklearn.decomposition import PCA\n",
    "from sklearn.manifold import TSNE\n",
    "from sklearn.cluster import DBSCAN, Birch\n",
    "pca = PCA(n_components=2)\n",
    "tsne = TSNE(n_components=2)\n",
    "\n",
    "pca_X = pca.fit_transform(X)\n",
    "sne_X = tsne.fit_transform(X)"
   ]
  },
  {
   "cell_type": "code",
   "execution_count": null,
   "metadata": {},
   "outputs": [],
   "source": [
    "plt.figure(figsize=(8, 8))\n",
    "for i in range(10):\n",
    "    bit_mask = y == i\n",
    "    plt.plot(sne_X[bit_mask, 0], sne_X[bit_mask, 1], 'v', label=i,\n",
    "               alpha=0.5)\n",
    "\n",
    "plt.legend()\n",
    "plt.title('T-sne projection with true coloring')\n",
    "plt.show()"
   ]
  },
  {
   "cell_type": "code",
   "execution_count": null,
   "metadata": {},
   "outputs": [],
   "source": [
    "plt.figure(figsize=(8, 8))\n",
    "for i in range(10):\n",
    "    bit_mask = y == i\n",
    "    plt.plot(pca_X[bit_mask, 0], pca_X[bit_mask, 1], 'v', label=i,\n",
    "               alpha=0.5)\n",
    "\n",
    "plt.legend()\n",
    "plt.title('PCA projection with true coloring')\n",
    "plt.show()"
   ]
  },
  {
   "cell_type": "code",
   "execution_count": null,
   "metadata": {},
   "outputs": [],
   "source": [
    "dbs = DBSCAN(eps=1.7, min_samples=10)\n",
    "y_hat = dbs.fit_predict(pca_X)\n",
    "\n",
    "plt.figure(figsize=(8, 8))\n",
    "for i in range(10):\n",
    "    bit_mask = y_hat == i\n",
    "    plt.plot(pca_X[bit_mask, 0], pca_X[bit_mask, 1], 'v',label=i,\n",
    "               alpha=0.5)\n",
    "\n",
    "plt.legend()\n",
    "plt.title('PCA projection with DBSCAN coloring')\n",
    "plt.show()"
   ]
  },
  {
   "cell_type": "code",
   "execution_count": null,
   "metadata": {},
   "outputs": [],
   "source": [
    "dbs = DBSCAN(eps=7, min_samples=60)\n",
    "y_hat = dbs.fit_predict(sne_X)\n",
    "\n",
    "plt.figure(figsize=(8, 8))\n",
    "for i in range(10):\n",
    "    bit_mask = y_hat == i\n",
    "    plt.plot(sne_X[bit_mask, 0], sne_X[bit_mask, 1], 'v',label=i,\n",
    "               alpha=0.5)\n",
    "\n",
    "plt.legend()\n",
    "plt.title('T-sne projection with DBSCAN coloring')\n",
    "plt.show()"
   ]
  },
  {
   "cell_type": "markdown",
   "metadata": {},
   "source": [
    "**Задание**\n",
    "\n",
    "Проделайте тоже самое для k-means. Какие результаты у вас получаются относительно DBSCAN? \n",
    "\n",
    "**Задание** \n",
    "\n",
    "Проведите кластеризацию цифр в исходном пространстве, но визуализируйте результат на проекции. Лучше или хуже получается относительно кластеризации в двумерном пространстве? Используйте гиперпараметры, подобранные в первой части семинара."
   ]
  },
  {
   "cell_type": "markdown",
   "metadata": {},
   "source": [
    "### Бонус"
   ]
  },
  {
   "cell_type": "markdown",
   "metadata": {},
   "source": [
    "Каждый из предложенных алгоритмов будет выдавать различные результаты в зависимости от сида, либо от перестановки данных. Это происходит из-за случайных инициализаций или из-за жадной стратегии, которая работает внутри метода. \n",
    "\n",
    "Вы уже знаете, что такое бутстрэп. Запуская один и тот же алгоритм с различными бутстрэпными подвыборками, мы будем получать различные результаты. Посчитав дисперсию получаемых результатов, мы сможем оценить нашу уверенность в получаемых значениях.\n",
    "\n",
    "1. Проведите кластеризацию на 100 бутстрэпных подвыборках, посчитайте метрики качества.\n",
    "2. Посчитайте дисперсию полученных векторов.\n",
    "3. Сделайте выводы."
   ]
  }
 ],
 "metadata": {
  "kernelspec": {
   "display_name": "Python 3",
   "language": "python",
   "name": "python3"
  },
  "language_info": {
   "codemirror_mode": {
    "name": "ipython",
    "version": 3
   },
   "file_extension": ".py",
   "mimetype": "text/x-python",
   "name": "python",
   "nbconvert_exporter": "python",
   "pygments_lexer": "ipython3",
   "version": "3.7.1"
  }
 },
 "nbformat": 4,
 "nbformat_minor": 2
}
